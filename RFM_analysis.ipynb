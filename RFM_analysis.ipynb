{
  "nbformat": 4,
  "nbformat_minor": 0,
  "metadata": {
    "colab": {
      "name": "RFM analysis.ipynb",
      "provenance": [],
      "collapsed_sections": [],
      "authorship_tag": "ABX9TyNtH/C9ejaU47i9wutoB1/r",
      "include_colab_link": true
    },
    "kernelspec": {
      "name": "python3",
      "display_name": "Python 3"
    }
  },
  "cells": [
    {
      "cell_type": "markdown",
      "metadata": {
        "id": "view-in-github",
        "colab_type": "text"
      },
      "source": [
        "<a href=\"https://colab.research.google.com/github/ailtiakova/awesome-for-beginners/blob/master/RFM_analysis.ipynb\" target=\"_parent\"><img src=\"https://colab.research.google.com/assets/colab-badge.svg\" alt=\"Open In Colab\"/></a>"
      ]
    },
    {
      "cell_type": "markdown",
      "metadata": {
        "id": "6Z3a4PjGdnYf",
        "colab_type": "text"
      },
      "source": [
        "#RFM Analyis \n",
        "\n",
        "The purpose of this exercise is to create the RFM metrics, in order to proceed with Customer Segmentation. This is a form of behavioural segmentation. \n",
        "\n",
        "**RFM** is an acronym of recency, frequency and monetary. \n",
        "\n",
        "\n",
        "Source:https://learn.datacamp.com/courses/customer-segmentation-in-python\n",
        "\n",
        "https://github.com/jjone36/Cohort/blob/master/Cohort_Anaylsis_Medium.ipynb"
      ]
    },
    {
      "cell_type": "code",
      "metadata": {
        "id": "WEyzDJC4am04",
        "colab_type": "code",
        "colab": {}
      },
      "source": [
        "import pandas as pd\n",
        "url = 'https://archive.ics.uci.edu/ml/machine-learning-databases/00352/Online%20Retail.xlsx'\n",
        "df1 = pd.read_excel(url)\n",
        "# Dataset is now stored in a Pandas Dataframe"
      ],
      "execution_count": 0,
      "outputs": []
    },
    {
      "cell_type": "markdown",
      "metadata": {
        "id": "l7QH_l_u2pjw",
        "colab_type": "text"
      },
      "source": [
        ""
      ]
    },
    {
      "cell_type": "code",
      "metadata": {
        "id": "xSRI1eLpnzz5",
        "colab_type": "code",
        "colab": {}
      },
      "source": [
        "# drop the row missing customer ID \n",
        "df1 = df1[df1.CustomerID.notnull()]\n",
        "df1 = df1.sample(frac = .3).reset_index(drop = True)\n",
        "# Shuffle your dataframe in-place and reset the index by specifying drop=True, this prevents from creating a column containing the old index entries.\n",
        "# The frac keyword argument specifies the fraction of rows to return in the random sample, so frac=1 means return all rows (in random order).\n"
      ],
      "execution_count": 0,
      "outputs": []
    },
    {
      "cell_type": "code",
      "metadata": {
        "id": "pgFGTd4Ud36R",
        "colab_type": "code",
        "colab": {
          "base_uri": "https://localhost:8080/",
          "height": 394
        },
        "outputId": "aa3ebf8e-3ead-4dcc-8137-ad5b3af064cc"
      },
      "source": [
        "df1.head()"
      ],
      "execution_count": 11,
      "outputs": [
        {
          "output_type": "execute_result",
          "data": {
            "text/html": [
              "<div>\n",
              "<style scoped>\n",
              "    .dataframe tbody tr th:only-of-type {\n",
              "        vertical-align: middle;\n",
              "    }\n",
              "\n",
              "    .dataframe tbody tr th {\n",
              "        vertical-align: top;\n",
              "    }\n",
              "\n",
              "    .dataframe thead th {\n",
              "        text-align: right;\n",
              "    }\n",
              "</style>\n",
              "<table border=\"1\" class=\"dataframe\">\n",
              "  <thead>\n",
              "    <tr style=\"text-align: right;\">\n",
              "      <th></th>\n",
              "      <th>InvoiceNo</th>\n",
              "      <th>StockCode</th>\n",
              "      <th>Description</th>\n",
              "      <th>Quantity</th>\n",
              "      <th>InvoiceDate</th>\n",
              "      <th>UnitPrice</th>\n",
              "      <th>CustomerID</th>\n",
              "      <th>Country</th>\n",
              "    </tr>\n",
              "  </thead>\n",
              "  <tbody>\n",
              "    <tr>\n",
              "      <th>0</th>\n",
              "      <td>557328</td>\n",
              "      <td>21481</td>\n",
              "      <td>FAWN BLUE HOT WATER BOTTLE</td>\n",
              "      <td>1</td>\n",
              "      <td>2011-06-20 09:53:00</td>\n",
              "      <td>2.95</td>\n",
              "      <td>14646.0</td>\n",
              "      <td>Netherlands</td>\n",
              "    </tr>\n",
              "    <tr>\n",
              "      <th>1</th>\n",
              "      <td>537334</td>\n",
              "      <td>85135B</td>\n",
              "      <td>BLUE DRAGONFLY HELICOPTER</td>\n",
              "      <td>1</td>\n",
              "      <td>2010-12-06 12:06:00</td>\n",
              "      <td>7.95</td>\n",
              "      <td>16719.0</td>\n",
              "      <td>United Kingdom</td>\n",
              "    </tr>\n",
              "    <tr>\n",
              "      <th>2</th>\n",
              "      <td>543731</td>\n",
              "      <td>21121</td>\n",
              "      <td>SET/10 RED POLKADOT PARTY CANDLES</td>\n",
              "      <td>24</td>\n",
              "      <td>2011-02-11 11:57:00</td>\n",
              "      <td>1.25</td>\n",
              "      <td>17677.0</td>\n",
              "      <td>United Kingdom</td>\n",
              "    </tr>\n",
              "    <tr>\n",
              "      <th>3</th>\n",
              "      <td>560716</td>\n",
              "      <td>22467</td>\n",
              "      <td>GUMBALL COAT RACK</td>\n",
              "      <td>6</td>\n",
              "      <td>2011-07-20 13:26:00</td>\n",
              "      <td>2.55</td>\n",
              "      <td>17675.0</td>\n",
              "      <td>United Kingdom</td>\n",
              "    </tr>\n",
              "    <tr>\n",
              "      <th>4</th>\n",
              "      <td>543639</td>\n",
              "      <td>84459A</td>\n",
              "      <td>PINK METAL CHICKEN HEART</td>\n",
              "      <td>1</td>\n",
              "      <td>2011-02-10 16:52:00</td>\n",
              "      <td>1.49</td>\n",
              "      <td>16725.0</td>\n",
              "      <td>United Kingdom</td>\n",
              "    </tr>\n",
              "  </tbody>\n",
              "</table>\n",
              "</div>"
            ],
            "text/plain": [
              "  InvoiceNo StockCode  ... CustomerID         Country\n",
              "0    557328     21481  ...    14646.0     Netherlands\n",
              "1    537334    85135B  ...    16719.0  United Kingdom\n",
              "2    543731     21121  ...    17677.0  United Kingdom\n",
              "3    560716     22467  ...    17675.0  United Kingdom\n",
              "4    543639    84459A  ...    16725.0  United Kingdom\n",
              "\n",
              "[5 rows x 8 columns]"
            ]
          },
          "metadata": {
            "tags": []
          },
          "execution_count": 11
        }
      ]
    },
    {
      "cell_type": "markdown",
      "metadata": {
        "id": "bsigOIYO8-Wa",
        "colab_type": "text"
      },
      "source": [
        "Invoice dates are no longer in chronological order."
      ]
    },
    {
      "cell_type": "code",
      "metadata": {
        "id": "GCMlwRsXn9kG",
        "colab_type": "code",
        "colab": {}
      },
      "source": [
        "import datetime as dt\n",
        "# extract year, month and day\n",
        "df1['InvoiceDay'] = df1.InvoiceDate.apply(lambda x: dt.datetime(x.year, x.month, x.day))\n",
        "# lambda functions is a small anonymous function. A lambda function can take any number of arguments, but can only have one expression."
      ],
      "execution_count": 0,
      "outputs": []
    },
    {
      "cell_type": "code",
      "metadata": {
        "id": "CGPAEaVjoYiQ",
        "colab_type": "code",
        "outputId": "1feba5c1-e84f-4766-ab85-0095c006375a",
        "colab": {
          "base_uri": "https://localhost:8080/",
          "height": 394
        }
      },
      "source": [
        "df1.head()"
      ],
      "execution_count": 22,
      "outputs": [
        {
          "output_type": "execute_result",
          "data": {
            "text/html": [
              "<div>\n",
              "<style scoped>\n",
              "    .dataframe tbody tr th:only-of-type {\n",
              "        vertical-align: middle;\n",
              "    }\n",
              "\n",
              "    .dataframe tbody tr th {\n",
              "        vertical-align: top;\n",
              "    }\n",
              "\n",
              "    .dataframe thead th {\n",
              "        text-align: right;\n",
              "    }\n",
              "</style>\n",
              "<table border=\"1\" class=\"dataframe\">\n",
              "  <thead>\n",
              "    <tr style=\"text-align: right;\">\n",
              "      <th></th>\n",
              "      <th>InvoiceNo</th>\n",
              "      <th>StockCode</th>\n",
              "      <th>Description</th>\n",
              "      <th>Quantity</th>\n",
              "      <th>InvoiceDate</th>\n",
              "      <th>UnitPrice</th>\n",
              "      <th>CustomerID</th>\n",
              "      <th>Country</th>\n",
              "      <th>InvoiceDay</th>\n",
              "    </tr>\n",
              "  </thead>\n",
              "  <tbody>\n",
              "    <tr>\n",
              "      <th>0</th>\n",
              "      <td>557328</td>\n",
              "      <td>21481</td>\n",
              "      <td>FAWN BLUE HOT WATER BOTTLE</td>\n",
              "      <td>1</td>\n",
              "      <td>2011-06-20 09:53:00</td>\n",
              "      <td>2.95</td>\n",
              "      <td>14646.0</td>\n",
              "      <td>Netherlands</td>\n",
              "      <td>2011-06-20</td>\n",
              "    </tr>\n",
              "    <tr>\n",
              "      <th>1</th>\n",
              "      <td>537334</td>\n",
              "      <td>85135B</td>\n",
              "      <td>BLUE DRAGONFLY HELICOPTER</td>\n",
              "      <td>1</td>\n",
              "      <td>2010-12-06 12:06:00</td>\n",
              "      <td>7.95</td>\n",
              "      <td>16719.0</td>\n",
              "      <td>United Kingdom</td>\n",
              "      <td>2010-12-06</td>\n",
              "    </tr>\n",
              "    <tr>\n",
              "      <th>2</th>\n",
              "      <td>543731</td>\n",
              "      <td>21121</td>\n",
              "      <td>SET/10 RED POLKADOT PARTY CANDLES</td>\n",
              "      <td>24</td>\n",
              "      <td>2011-02-11 11:57:00</td>\n",
              "      <td>1.25</td>\n",
              "      <td>17677.0</td>\n",
              "      <td>United Kingdom</td>\n",
              "      <td>2011-02-11</td>\n",
              "    </tr>\n",
              "    <tr>\n",
              "      <th>3</th>\n",
              "      <td>560716</td>\n",
              "      <td>22467</td>\n",
              "      <td>GUMBALL COAT RACK</td>\n",
              "      <td>6</td>\n",
              "      <td>2011-07-20 13:26:00</td>\n",
              "      <td>2.55</td>\n",
              "      <td>17675.0</td>\n",
              "      <td>United Kingdom</td>\n",
              "      <td>2011-07-20</td>\n",
              "    </tr>\n",
              "    <tr>\n",
              "      <th>4</th>\n",
              "      <td>543639</td>\n",
              "      <td>84459A</td>\n",
              "      <td>PINK METAL CHICKEN HEART</td>\n",
              "      <td>1</td>\n",
              "      <td>2011-02-10 16:52:00</td>\n",
              "      <td>1.49</td>\n",
              "      <td>16725.0</td>\n",
              "      <td>United Kingdom</td>\n",
              "      <td>2011-02-10</td>\n",
              "    </tr>\n",
              "  </tbody>\n",
              "</table>\n",
              "</div>"
            ],
            "text/plain": [
              "  InvoiceNo StockCode  ...         Country  InvoiceDay\n",
              "0    557328     21481  ...     Netherlands  2011-06-20\n",
              "1    537334    85135B  ...  United Kingdom  2010-12-06\n",
              "2    543731     21121  ...  United Kingdom  2011-02-11\n",
              "3    560716     22467  ...  United Kingdom  2011-07-20\n",
              "4    543639    84459A  ...  United Kingdom  2011-02-10\n",
              "\n",
              "[5 rows x 9 columns]"
            ]
          },
          "metadata": {
            "tags": []
          },
          "execution_count": 22
        }
      ]
    },
    {
      "cell_type": "code",
      "metadata": {
        "id": "Q5tmRaSUDsYO",
        "colab_type": "code",
        "colab": {
          "base_uri": "https://localhost:8080/",
          "height": 34
        },
        "outputId": "d84d6dc0-612f-4abb-f1f4-b28706693fa4"
      },
      "source": [
        "# print the time period\n",
        "print('Min : {}, Max : {}'.format(min(df1.InvoiceDay), max(df1.InvoiceDay)))"
      ],
      "execution_count": 24,
      "outputs": [
        {
          "output_type": "stream",
          "text": [
            "Min : 2010-12-01 00:00:00, Max : 2011-12-09 00:00:00\n"
          ],
          "name": "stdout"
        }
      ]
    },
    {
      "cell_type": "code",
      "metadata": {
        "id": "rNuyCUTVEEqW",
        "colab_type": "code",
        "colab": {}
      },
      "source": [
        "# pin the last date\n",
        "pin_date = max(df1.InvoiceDay) + dt.timedelta(1)"
      ],
      "execution_count": 0,
      "outputs": []
    },
    {
      "cell_type": "code",
      "metadata": {
        "id": "ZxtRE4b2E-Dv",
        "colab_type": "code",
        "colab": {
          "base_uri": "https://localhost:8080/",
          "height": 394
        },
        "outputId": "dc3f7a12-f62b-4b26-dd27-635d16a71411"
      },
      "source": [
        "# Create total spend dataframe\n",
        "df1['TotalSum'] = df1.Quantity * df1.UnitPrice\n",
        "# you can create metrics from existing columns\n",
        "df1.head()"
      ],
      "execution_count": 27,
      "outputs": [
        {
          "output_type": "execute_result",
          "data": {
            "text/html": [
              "<div>\n",
              "<style scoped>\n",
              "    .dataframe tbody tr th:only-of-type {\n",
              "        vertical-align: middle;\n",
              "    }\n",
              "\n",
              "    .dataframe tbody tr th {\n",
              "        vertical-align: top;\n",
              "    }\n",
              "\n",
              "    .dataframe thead th {\n",
              "        text-align: right;\n",
              "    }\n",
              "</style>\n",
              "<table border=\"1\" class=\"dataframe\">\n",
              "  <thead>\n",
              "    <tr style=\"text-align: right;\">\n",
              "      <th></th>\n",
              "      <th>InvoiceNo</th>\n",
              "      <th>StockCode</th>\n",
              "      <th>Description</th>\n",
              "      <th>Quantity</th>\n",
              "      <th>InvoiceDate</th>\n",
              "      <th>UnitPrice</th>\n",
              "      <th>CustomerID</th>\n",
              "      <th>Country</th>\n",
              "      <th>InvoiceDay</th>\n",
              "      <th>TotalSum</th>\n",
              "    </tr>\n",
              "  </thead>\n",
              "  <tbody>\n",
              "    <tr>\n",
              "      <th>0</th>\n",
              "      <td>557328</td>\n",
              "      <td>21481</td>\n",
              "      <td>FAWN BLUE HOT WATER BOTTLE</td>\n",
              "      <td>1</td>\n",
              "      <td>2011-06-20 09:53:00</td>\n",
              "      <td>2.95</td>\n",
              "      <td>14646.0</td>\n",
              "      <td>Netherlands</td>\n",
              "      <td>2011-06-20</td>\n",
              "      <td>2.95</td>\n",
              "    </tr>\n",
              "    <tr>\n",
              "      <th>1</th>\n",
              "      <td>537334</td>\n",
              "      <td>85135B</td>\n",
              "      <td>BLUE DRAGONFLY HELICOPTER</td>\n",
              "      <td>1</td>\n",
              "      <td>2010-12-06 12:06:00</td>\n",
              "      <td>7.95</td>\n",
              "      <td>16719.0</td>\n",
              "      <td>United Kingdom</td>\n",
              "      <td>2010-12-06</td>\n",
              "      <td>7.95</td>\n",
              "    </tr>\n",
              "    <tr>\n",
              "      <th>2</th>\n",
              "      <td>543731</td>\n",
              "      <td>21121</td>\n",
              "      <td>SET/10 RED POLKADOT PARTY CANDLES</td>\n",
              "      <td>24</td>\n",
              "      <td>2011-02-11 11:57:00</td>\n",
              "      <td>1.25</td>\n",
              "      <td>17677.0</td>\n",
              "      <td>United Kingdom</td>\n",
              "      <td>2011-02-11</td>\n",
              "      <td>30.00</td>\n",
              "    </tr>\n",
              "    <tr>\n",
              "      <th>3</th>\n",
              "      <td>560716</td>\n",
              "      <td>22467</td>\n",
              "      <td>GUMBALL COAT RACK</td>\n",
              "      <td>6</td>\n",
              "      <td>2011-07-20 13:26:00</td>\n",
              "      <td>2.55</td>\n",
              "      <td>17675.0</td>\n",
              "      <td>United Kingdom</td>\n",
              "      <td>2011-07-20</td>\n",
              "      <td>15.30</td>\n",
              "    </tr>\n",
              "    <tr>\n",
              "      <th>4</th>\n",
              "      <td>543639</td>\n",
              "      <td>84459A</td>\n",
              "      <td>PINK METAL CHICKEN HEART</td>\n",
              "      <td>1</td>\n",
              "      <td>2011-02-10 16:52:00</td>\n",
              "      <td>1.49</td>\n",
              "      <td>16725.0</td>\n",
              "      <td>United Kingdom</td>\n",
              "      <td>2011-02-10</td>\n",
              "      <td>1.49</td>\n",
              "    </tr>\n",
              "  </tbody>\n",
              "</table>\n",
              "</div>"
            ],
            "text/plain": [
              "  InvoiceNo StockCode  ... InvoiceDay  TotalSum\n",
              "0    557328     21481  ... 2011-06-20      2.95\n",
              "1    537334    85135B  ... 2010-12-06      7.95\n",
              "2    543731     21121  ... 2011-02-11     30.00\n",
              "3    560716     22467  ... 2011-07-20     15.30\n",
              "4    543639    84459A  ... 2011-02-10      1.49\n",
              "\n",
              "[5 rows x 10 columns]"
            ]
          },
          "metadata": {
            "tags": []
          },
          "execution_count": 27
        }
      ]
    },
    {
      "cell_type": "code",
      "metadata": {
        "id": "NZwNVnEQKcOT",
        "colab_type": "code",
        "colab": {}
      },
      "source": [
        "# calculate RFM values, aggregated for each Customer using the Groupby function.\n",
        "rfm = df1.groupby('CustomerID').agg({\n",
        "    'InvoiceDate' : lambda x: (pin_date - x.max()).days,  \n",
        "    'InvoiceNo' : 'count', #works out numer of discrete purchases by the customer, ie. is this first, second, sixty-sixth purchase?\n",
        "    'TotalSum' : 'sum'})\n",
        "\n"
      ],
      "execution_count": 0,
      "outputs": []
    },
    {
      "cell_type": "code",
      "metadata": {
        "id": "jTVW_YVEKiuL",
        "colab_type": "code",
        "colab": {
          "base_uri": "https://localhost:8080/",
          "height": 235
        },
        "outputId": "4d5120d6-2733-4a4a-f8dc-b60f1eb983c1"
      },
      "source": [
        "# rename the columns.\n",
        "#This method is quite useful when we need to rename some selected columns because we need to specify information only for the columns which are to be renamed.\n",
        "rfm.rename(columns = {'InvoiceDate' : 'Recency',\n",
        "                      'InvoiceNo' : 'Frequency', \n",
        "                      'TotalSum' : 'Monetary'}, inplace = True)\n",
        "rfm.head()"
      ],
      "execution_count": 29,
      "outputs": [
        {
          "output_type": "execute_result",
          "data": {
            "text/html": [
              "<div>\n",
              "<style scoped>\n",
              "    .dataframe tbody tr th:only-of-type {\n",
              "        vertical-align: middle;\n",
              "    }\n",
              "\n",
              "    .dataframe tbody tr th {\n",
              "        vertical-align: top;\n",
              "    }\n",
              "\n",
              "    .dataframe thead th {\n",
              "        text-align: right;\n",
              "    }\n",
              "</style>\n",
              "<table border=\"1\" class=\"dataframe\">\n",
              "  <thead>\n",
              "    <tr style=\"text-align: right;\">\n",
              "      <th></th>\n",
              "      <th>Recency</th>\n",
              "      <th>Frequency</th>\n",
              "      <th>Monetary</th>\n",
              "    </tr>\n",
              "    <tr>\n",
              "      <th>CustomerID</th>\n",
              "      <th></th>\n",
              "      <th></th>\n",
              "      <th></th>\n",
              "    </tr>\n",
              "  </thead>\n",
              "  <tbody>\n",
              "    <tr>\n",
              "      <th>12347.0</th>\n",
              "      <td>2</td>\n",
              "      <td>66</td>\n",
              "      <td>1540.21</td>\n",
              "    </tr>\n",
              "    <tr>\n",
              "      <th>12348.0</th>\n",
              "      <td>75</td>\n",
              "      <td>13</td>\n",
              "      <td>630.84</td>\n",
              "    </tr>\n",
              "    <tr>\n",
              "      <th>12349.0</th>\n",
              "      <td>18</td>\n",
              "      <td>30</td>\n",
              "      <td>549.48</td>\n",
              "    </tr>\n",
              "    <tr>\n",
              "      <th>12350.0</th>\n",
              "      <td>310</td>\n",
              "      <td>6</td>\n",
              "      <td>111.70</td>\n",
              "    </tr>\n",
              "    <tr>\n",
              "      <th>12352.0</th>\n",
              "      <td>36</td>\n",
              "      <td>30</td>\n",
              "      <td>869.08</td>\n",
              "    </tr>\n",
              "  </tbody>\n",
              "</table>\n",
              "</div>"
            ],
            "text/plain": [
              "            Recency  Frequency  Monetary\n",
              "CustomerID                              \n",
              "12347.0           2         66   1540.21\n",
              "12348.0          75         13    630.84\n",
              "12349.0          18         30    549.48\n",
              "12350.0         310          6    111.70\n",
              "12352.0          36         30    869.08"
            ]
          },
          "metadata": {
            "tags": []
          },
          "execution_count": 29
        }
      ]
    },
    {
      "cell_type": "code",
      "metadata": {
        "id": "LkVAIZDGLOFZ",
        "colab_type": "code",
        "colab": {}
      },
      "source": [
        "# create labels and assign them to tree percentile groups \n",
        "r_labels = range(4, 0, -1)\n",
        "r_groups = pd.qcut(rfm.Recency, q = 4, labels = r_labels)\n",
        "# r_labels, in descending order. Recency means how much time has elapsed since a customer’s last order.\n",
        "# The smaller the value is, the more engaged a customer to that brand. \n",
        "f_labels = range(1, 5)\n",
        "f_groups = pd.qcut(rfm.Frequency, q = 4, labels = f_labels)\n",
        "m_labels = range(1, 5)\n",
        "m_groups = pd.qcut(rfm.Monetary, q = 4, labels = m_labels)"
      ],
      "execution_count": 0,
      "outputs": []
    },
    {
      "cell_type": "code",
      "metadata": {
        "id": "IK-ejTbrL3Dc",
        "colab_type": "code",
        "colab": {
          "base_uri": "https://localhost:8080/",
          "height": 235
        },
        "outputId": "a52eadaa-d1b7-4b61-bbd0-139559ccf6e7"
      },
      "source": [
        "# make a new column for group labels\n",
        "rfm['R'] = r_groups.values\n",
        "rfm['F'] = f_groups.values\n",
        "rfm['M'] = m_groups.values\n",
        "# sum up the three columns\n",
        "rfm['RFM_Segment'] = rfm.apply(lambda x: str(x['R']) + str(x['F']) + str(x['M']), axis = 1)\n",
        "# Axis along which the function is applied: 1 or ‘columns’: apply function to each row.\n",
        "rfm['RFM_Score'] = rfm[['R', 'F', 'M']].sum(axis = 1)\n",
        "rfm.head()"
      ],
      "execution_count": 32,
      "outputs": [
        {
          "output_type": "execute_result",
          "data": {
            "text/html": [
              "<div>\n",
              "<style scoped>\n",
              "    .dataframe tbody tr th:only-of-type {\n",
              "        vertical-align: middle;\n",
              "    }\n",
              "\n",
              "    .dataframe tbody tr th {\n",
              "        vertical-align: top;\n",
              "    }\n",
              "\n",
              "    .dataframe thead th {\n",
              "        text-align: right;\n",
              "    }\n",
              "</style>\n",
              "<table border=\"1\" class=\"dataframe\">\n",
              "  <thead>\n",
              "    <tr style=\"text-align: right;\">\n",
              "      <th></th>\n",
              "      <th>Recency</th>\n",
              "      <th>Frequency</th>\n",
              "      <th>Monetary</th>\n",
              "      <th>R</th>\n",
              "      <th>F</th>\n",
              "      <th>M</th>\n",
              "      <th>RFM_Segment</th>\n",
              "      <th>RFM_Score</th>\n",
              "    </tr>\n",
              "    <tr>\n",
              "      <th>CustomerID</th>\n",
              "      <th></th>\n",
              "      <th></th>\n",
              "      <th></th>\n",
              "      <th></th>\n",
              "      <th></th>\n",
              "      <th></th>\n",
              "      <th></th>\n",
              "      <th></th>\n",
              "    </tr>\n",
              "  </thead>\n",
              "  <tbody>\n",
              "    <tr>\n",
              "      <th>12347.0</th>\n",
              "      <td>2</td>\n",
              "      <td>66</td>\n",
              "      <td>1540.21</td>\n",
              "      <td>4</td>\n",
              "      <td>4</td>\n",
              "      <td>4</td>\n",
              "      <td>444</td>\n",
              "      <td>12.0</td>\n",
              "    </tr>\n",
              "    <tr>\n",
              "      <th>12348.0</th>\n",
              "      <td>75</td>\n",
              "      <td>13</td>\n",
              "      <td>630.84</td>\n",
              "      <td>2</td>\n",
              "      <td>2</td>\n",
              "      <td>4</td>\n",
              "      <td>224</td>\n",
              "      <td>8.0</td>\n",
              "    </tr>\n",
              "    <tr>\n",
              "      <th>12349.0</th>\n",
              "      <td>18</td>\n",
              "      <td>30</td>\n",
              "      <td>549.48</td>\n",
              "      <td>3</td>\n",
              "      <td>3</td>\n",
              "      <td>4</td>\n",
              "      <td>334</td>\n",
              "      <td>10.0</td>\n",
              "    </tr>\n",
              "    <tr>\n",
              "      <th>12350.0</th>\n",
              "      <td>310</td>\n",
              "      <td>6</td>\n",
              "      <td>111.70</td>\n",
              "      <td>1</td>\n",
              "      <td>1</td>\n",
              "      <td>2</td>\n",
              "      <td>112</td>\n",
              "      <td>4.0</td>\n",
              "    </tr>\n",
              "    <tr>\n",
              "      <th>12352.0</th>\n",
              "      <td>36</td>\n",
              "      <td>30</td>\n",
              "      <td>869.08</td>\n",
              "      <td>3</td>\n",
              "      <td>3</td>\n",
              "      <td>4</td>\n",
              "      <td>334</td>\n",
              "      <td>10.0</td>\n",
              "    </tr>\n",
              "  </tbody>\n",
              "</table>\n",
              "</div>"
            ],
            "text/plain": [
              "            Recency  Frequency  Monetary  R  F  M RFM_Segment  RFM_Score\n",
              "CustomerID                                                              \n",
              "12347.0           2         66   1540.21  4  4  4         444       12.0\n",
              "12348.0          75         13    630.84  2  2  4         224        8.0\n",
              "12349.0          18         30    549.48  3  3  4         334       10.0\n",
              "12350.0         310          6    111.70  1  1  2         112        4.0\n",
              "12352.0          36         30    869.08  3  3  4         334       10.0"
            ]
          },
          "metadata": {
            "tags": []
          },
          "execution_count": 32
        }
      ]
    },
    {
      "cell_type": "code",
      "metadata": {
        "id": "-04oC2dhPFHA",
        "colab_type": "code",
        "colab": {
          "base_uri": "https://localhost:8080/",
          "height": 266
        },
        "outputId": "4ec14009-9fac-49d8-af3e-c9f4b6908915"
      },
      "source": [
        "# calculate average values for each RFM\n",
        "rfm_agg = rfm.groupby('RFM_Score').agg({\n",
        "    'Recency' : 'mean',\n",
        "    'Frequency' : 'mean',\n",
        "    'Monetary' : ['mean', 'count']\n",
        "})\n",
        "rfm_agg.round(1).head()"
      ],
      "execution_count": 33,
      "outputs": [
        {
          "output_type": "execute_result",
          "data": {
            "text/html": [
              "<div>\n",
              "<style scoped>\n",
              "    .dataframe tbody tr th:only-of-type {\n",
              "        vertical-align: middle;\n",
              "    }\n",
              "\n",
              "    .dataframe tbody tr th {\n",
              "        vertical-align: top;\n",
              "    }\n",
              "\n",
              "    .dataframe thead tr th {\n",
              "        text-align: left;\n",
              "    }\n",
              "\n",
              "    .dataframe thead tr:last-of-type th {\n",
              "        text-align: right;\n",
              "    }\n",
              "</style>\n",
              "<table border=\"1\" class=\"dataframe\">\n",
              "  <thead>\n",
              "    <tr>\n",
              "      <th></th>\n",
              "      <th>Recency</th>\n",
              "      <th>Frequency</th>\n",
              "      <th colspan=\"2\" halign=\"left\">Monetary</th>\n",
              "    </tr>\n",
              "    <tr>\n",
              "      <th></th>\n",
              "      <th>mean</th>\n",
              "      <th>mean</th>\n",
              "      <th>mean</th>\n",
              "      <th>count</th>\n",
              "    </tr>\n",
              "    <tr>\n",
              "      <th>RFM_Score</th>\n",
              "      <th></th>\n",
              "      <th></th>\n",
              "      <th></th>\n",
              "      <th></th>\n",
              "    </tr>\n",
              "  </thead>\n",
              "  <tbody>\n",
              "    <tr>\n",
              "      <th>3.0</th>\n",
              "      <td>256.9</td>\n",
              "      <td>2.9</td>\n",
              "      <td>35.7</td>\n",
              "      <td>380</td>\n",
              "    </tr>\n",
              "    <tr>\n",
              "      <th>4.0</th>\n",
              "      <td>177.3</td>\n",
              "      <td>4.6</td>\n",
              "      <td>70.7</td>\n",
              "      <td>408</td>\n",
              "    </tr>\n",
              "    <tr>\n",
              "      <th>5.0</th>\n",
              "      <td>138.3</td>\n",
              "      <td>6.7</td>\n",
              "      <td>103.0</td>\n",
              "      <td>471</td>\n",
              "    </tr>\n",
              "    <tr>\n",
              "      <th>6.0</th>\n",
              "      <td>103.2</td>\n",
              "      <td>9.2</td>\n",
              "      <td>169.0</td>\n",
              "      <td>461</td>\n",
              "    </tr>\n",
              "    <tr>\n",
              "      <th>7.0</th>\n",
              "      <td>79.9</td>\n",
              "      <td>13.3</td>\n",
              "      <td>219.3</td>\n",
              "      <td>437</td>\n",
              "    </tr>\n",
              "  </tbody>\n",
              "</table>\n",
              "</div>"
            ],
            "text/plain": [
              "          Recency Frequency Monetary      \n",
              "             mean      mean     mean count\n",
              "RFM_Score                                 \n",
              "3.0         256.9       2.9     35.7   380\n",
              "4.0         177.3       4.6     70.7   408\n",
              "5.0         138.3       6.7    103.0   471\n",
              "6.0         103.2       9.2    169.0   461\n",
              "7.0          79.9      13.3    219.3   437"
            ]
          },
          "metadata": {
            "tags": []
          },
          "execution_count": 33
        }
      ]
    },
    {
      "cell_type": "code",
      "metadata": {
        "id": "TqyzjnhKPgbL",
        "colab_type": "code",
        "colab": {
          "base_uri": "https://localhost:8080/",
          "height": 255
        },
        "outputId": "b7c9ceb9-d4d0-4963-820b-adcb8ebc3e2c"
      },
      "source": [
        "# assign labels from total score\n",
        "score_labels = ['Green', 'Bronze', 'Silver', 'Gold']\n",
        "score_groups = pd.qcut(rfm.RFM_Score, q = 4, labels = score_labels)\n",
        "rfm['RFM_Level'] = score_groups.values\n",
        "rfm.head()"
      ],
      "execution_count": 34,
      "outputs": [
        {
          "output_type": "execute_result",
          "data": {
            "text/html": [
              "<div>\n",
              "<style scoped>\n",
              "    .dataframe tbody tr th:only-of-type {\n",
              "        vertical-align: middle;\n",
              "    }\n",
              "\n",
              "    .dataframe tbody tr th {\n",
              "        vertical-align: top;\n",
              "    }\n",
              "\n",
              "    .dataframe thead th {\n",
              "        text-align: right;\n",
              "    }\n",
              "</style>\n",
              "<table border=\"1\" class=\"dataframe\">\n",
              "  <thead>\n",
              "    <tr style=\"text-align: right;\">\n",
              "      <th></th>\n",
              "      <th>Recency</th>\n",
              "      <th>Frequency</th>\n",
              "      <th>Monetary</th>\n",
              "      <th>R</th>\n",
              "      <th>F</th>\n",
              "      <th>M</th>\n",
              "      <th>RFM_Segment</th>\n",
              "      <th>RFM_Score</th>\n",
              "      <th>RFM_Level</th>\n",
              "    </tr>\n",
              "    <tr>\n",
              "      <th>CustomerID</th>\n",
              "      <th></th>\n",
              "      <th></th>\n",
              "      <th></th>\n",
              "      <th></th>\n",
              "      <th></th>\n",
              "      <th></th>\n",
              "      <th></th>\n",
              "      <th></th>\n",
              "      <th></th>\n",
              "    </tr>\n",
              "  </thead>\n",
              "  <tbody>\n",
              "    <tr>\n",
              "      <th>12347.0</th>\n",
              "      <td>2</td>\n",
              "      <td>66</td>\n",
              "      <td>1540.21</td>\n",
              "      <td>4</td>\n",
              "      <td>4</td>\n",
              "      <td>4</td>\n",
              "      <td>444</td>\n",
              "      <td>12.0</td>\n",
              "      <td>Gold</td>\n",
              "    </tr>\n",
              "    <tr>\n",
              "      <th>12348.0</th>\n",
              "      <td>75</td>\n",
              "      <td>13</td>\n",
              "      <td>630.84</td>\n",
              "      <td>2</td>\n",
              "      <td>2</td>\n",
              "      <td>4</td>\n",
              "      <td>224</td>\n",
              "      <td>8.0</td>\n",
              "      <td>Silver</td>\n",
              "    </tr>\n",
              "    <tr>\n",
              "      <th>12349.0</th>\n",
              "      <td>18</td>\n",
              "      <td>30</td>\n",
              "      <td>549.48</td>\n",
              "      <td>3</td>\n",
              "      <td>3</td>\n",
              "      <td>4</td>\n",
              "      <td>334</td>\n",
              "      <td>10.0</td>\n",
              "      <td>Silver</td>\n",
              "    </tr>\n",
              "    <tr>\n",
              "      <th>12350.0</th>\n",
              "      <td>310</td>\n",
              "      <td>6</td>\n",
              "      <td>111.70</td>\n",
              "      <td>1</td>\n",
              "      <td>1</td>\n",
              "      <td>2</td>\n",
              "      <td>112</td>\n",
              "      <td>4.0</td>\n",
              "      <td>Green</td>\n",
              "    </tr>\n",
              "    <tr>\n",
              "      <th>12352.0</th>\n",
              "      <td>36</td>\n",
              "      <td>30</td>\n",
              "      <td>869.08</td>\n",
              "      <td>3</td>\n",
              "      <td>3</td>\n",
              "      <td>4</td>\n",
              "      <td>334</td>\n",
              "      <td>10.0</td>\n",
              "      <td>Silver</td>\n",
              "    </tr>\n",
              "  </tbody>\n",
              "</table>\n",
              "</div>"
            ],
            "text/plain": [
              "            Recency  Frequency  Monetary  R  ...  M RFM_Segment RFM_Score  RFM_Level\n",
              "CustomerID                                   ...                                    \n",
              "12347.0           2         66   1540.21  4  ...  4         444      12.0       Gold\n",
              "12348.0          75         13    630.84  2  ...  4         224       8.0     Silver\n",
              "12349.0          18         30    549.48  3  ...  4         334      10.0     Silver\n",
              "12350.0         310          6    111.70  1  ...  2         112       4.0      Green\n",
              "12352.0          36         30    869.08  3  ...  4         334      10.0     Silver\n",
              "\n",
              "[5 rows x 9 columns]"
            ]
          },
          "metadata": {
            "tags": []
          },
          "execution_count": 34
        }
      ]
    }
  ]
}